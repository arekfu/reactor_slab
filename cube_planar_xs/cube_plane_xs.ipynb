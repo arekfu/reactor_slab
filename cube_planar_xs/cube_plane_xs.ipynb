{
 "cells": [
  {
   "cell_type": "markdown",
   "metadata": {},
   "source": [
    "# Cube with Planar Varrying Cross Section"
   ]
  },
  {
   "cell_type": "markdown",
   "metadata": {},
   "source": [
    "## Cross Section Choice\n",
    "\n",
    "For this model, I have chose to use a total cross section defined as\n",
    "\n",
    "$$\\Sigma_t(\\boldsymbol{r}) = x + y + z + 1.$$\n",
    "\n",
    "This cross section will be valid over a $2cm \\times 2cm \\times 2cm$ cube, with a lower corner at $(0,0,0)$ and and upper corner at (2,2,2). It will be a single energy group, non-multiplying system, with the following scatter and capture cross sections:\n",
    "\n",
    "$$ \\frac{\\Sigma_s(\\boldsymbol{r})}{\\Sigma_t(\\boldsymbol{r})} = 0.7 \\qquad \\frac{\\Sigma_\\gamma(\\boldsymbol{r})}{\\Sigma_t(\\boldsymbol{r})} = 0.3$$\n",
    "\n",
    "The cube will be divided into 32 sections along each axis, creating 32768 smaller cubes, in which the cross sections shall be constant. As such, a separate cross section definition must be created for each smaller cube. The following code does just that for openMC, using the cross section values at the center of a given cube."
   ]
  },
  {
   "cell_type": "code",
   "execution_count": 1,
   "metadata": {},
   "outputs": [],
   "source": [
    "import os\n",
    "import numpy as np\n",
    "import openmc\n",
    "\n",
    "%matplotlib inline"
   ]
  },
  {
   "cell_type": "code",
   "execution_count": 11,
   "metadata": {},
   "outputs": [],
   "source": [
    "# Define the interval for the single group\n",
    "E_groups = openmc.mgxs.EnergyGroups(np.logspace(-5,7,3))\n",
    "\n",
    "# Loop to generate XS data for each cube\n",
    "d = 2.0/32.0\n",
    "xs_data_file = openmc.MGXSLibrary(E_groups)\n",
    "for i in range(32):\n",
    "    for j in range(32):\n",
    "        for k in range(32):\n",
    "            x = i*d + (d/2.0)\n",
    "            y = j*d + (d/2.0)\n",
    "            z = k*d + (d/2.0)\n",
    "            XSname = str(i) + '.' + str(j) + '.' + str(k)\n",
    "            XS = openmc.XSdata(XSname, E_groups)\n",
    "            XS.order = 0\n",
    "            Et = [(x + y + z + 1.0),0.0]\n",
    "            Es = [[[0.7*Et[0], 0.0],\n",
    "                   [0.0, 0.0]]]\n",
    "            Es = np.array(Es)\n",
    "            Es = np.rollaxis(Es, 0, 3)\n",
    "            Ec = [0.3*Et[0], 0.0]\n",
    "            XS.set_total(Et, temperature=294.)\n",
    "            XS.set_absorption(Ec, temperature=294.)\n",
    "            XS.set_scatter_matrix(Es, temperature=294.)\n",
    "            xs_data_file.add_xsdata(XS)\n",
    "            \n",
    "# Write XS data to .h5 file\n",
    "xs_data_file.export_to_hdf5('cube_plane_xs.h5')\n",
    "\n",
    "# Now must define materials\n",
    "materials = {}\n",
    "for i in range(32):\n",
    "    for j in range(32):\n",
    "        for k in range(32):\n",
    "            XSname = str(i) + '.' + str(j) + '.' + str(k)\n",
    "            materials[XSname] = openmc.Material(name = XSname)\n",
    "            materials[XSname].set_density('macro', 1.)\n",
    "            materials[XSname].add_macroscopic(XSname)\n",
    "            \n",
    "materials_file = openmc.Materials(materials.values())\n",
    "materials_file.cross_sections = 'cube_plane_xs,h5'\n",
    "materials_file.export_to_xml()"
   ]
  },
  {
   "cell_type": "code",
   "execution_count": null,
   "metadata": {},
   "outputs": [],
   "source": []
  }
 ],
 "metadata": {
  "kernelspec": {
   "display_name": "Python 3",
   "language": "python",
   "name": "python3"
  },
  "language_info": {
   "codemirror_mode": {
    "name": "ipython",
    "version": 3
   },
   "file_extension": ".py",
   "mimetype": "text/x-python",
   "name": "python",
   "nbconvert_exporter": "python",
   "pygments_lexer": "ipython3",
   "version": "3.5.2"
  }
 },
 "nbformat": 4,
 "nbformat_minor": 4
}
