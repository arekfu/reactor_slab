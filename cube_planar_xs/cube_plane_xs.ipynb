{
 "cells": [
  {
   "cell_type": "markdown",
   "metadata": {},
   "source": [
    "# Cube with Planar Varrying Cross Section"
   ]
  },
  {
   "cell_type": "markdown",
   "metadata": {},
   "source": [
    "## Cross Section Choice\n",
    "\n",
    "For this model, I have chose to use a total cross section defined as\n",
    "\n",
    "$$\\Sigma_t(\\boldsymbol{r}) = x + y + z + 1.$$\n",
    "\n",
    "This cross section will be valid over a $2cm \\times 2cm \\times 2cm$ cube, with a lower corner at $(0,0,0)$ and and upper corner at (2,2,2). It will be a single energy group, non-multiplying system, with the following scatter and capture cross sections:\n",
    "\n",
    "$$ \\frac{\\Sigma_s(\\boldsymbol{r})}{\\Sigma_t(\\boldsymbol{r})} = 0.7 \\qquad \\frac{\\Sigma_\\gamma(\\boldsymbol{r})}{\\Sigma_t(\\boldsymbol{r})} = 0.3$$\n",
    "\n",
    "The cube will be divided into 32 sections along each axis, creating 32768 smaller cubes, in which the cross sections shall be constant. As such, a separate cross section definition must be created for each smaller cube. The following code does just that for openMC, using the cross section values at the center of a given cube."
   ]
  },
  {
   "cell_type": "code",
   "execution_count": 1,
   "metadata": {},
   "outputs": [],
   "source": [
    "import os\n",
    "import numpy as np\n",
    "import openmc\n",
    "\n",
    "%matplotlib inline"
   ]
  },
  {
   "cell_type": "code",
   "execution_count": 2,
   "metadata": {},
   "outputs": [],
   "source": [
    "# Define the interval for the single group\n",
    "E_groups = openmc.mgxs.EnergyGroups(np.logspace(-5,7,3))\n",
    "\n",
    "# Number of bins on each axis\n",
    "Nx = 5\n",
    "Ny = 5\n",
    "Nz = 5\n",
    "\n",
    "# Loop to generate XS data for each cube\n",
    "dx = 2.0/Nx\n",
    "dy = 2.0/Ny\n",
    "dz = 2.0/Nz\n",
    "xs_data_file = openmc.MGXSLibrary(E_groups)\n",
    "for i in range(Nx):\n",
    "    for j in range(Ny):\n",
    "        for k in range(Nz):\n",
    "            x = i*dx + (dx/2.0)\n",
    "            y = j*dy + (dy/2.0)\n",
    "            z = k*dz + (dz/2.0)\n",
    "            XSname = str(i) + '.' + str(j) + '.' + str(k)\n",
    "            XS = openmc.XSdata(XSname, E_groups)\n",
    "            XS.order = 0\n",
    "            Et = [(x + y + z + 1.0),(x + y + z + 1.0)]\n",
    "            Es = [[[0.35*Et[0], 0.35*Et[1]],\n",
    "                   [0.35*Et[0], 0.35*Et[1]]]]\n",
    "            Es = np.array(Es)\n",
    "            Es = np.rollaxis(Es, 0, 3)\n",
    "            Ec = [0.3*Et[0], 0.3*Et[1]]\n",
    "            XS.set_total(Et, temperature=294.)\n",
    "            XS.set_absorption(Ec, temperature=294.)\n",
    "            XS.set_scatter_matrix(Es, temperature=294.)\n",
    "            xs_data_file.add_xsdata(XS)\n",
    "            \n",
    "# Write XS data to .h5 file\n",
    "xs_data_file.export_to_hdf5('cube_plane_xs.h5')\n",
    "\n",
    "# Now must define materials\n",
    "materials = {}\n",
    "for i in range(Nx):\n",
    "    for j in range(Ny):\n",
    "        for k in range(Nz):\n",
    "            XSname = str(i) + '.' + str(j) + '.' + str(k)\n",
    "            materials[XSname] = openmc.Material(name = XSname)\n",
    "            materials[XSname].set_density('macro', 1.)\n",
    "            materials[XSname].add_macroscopic(XSname)\n",
    "            \n",
    "materials_file = openmc.Materials(materials.values())\n",
    "materials_file.cross_sections = 'cube_plane_xs.h5'\n",
    "materials_file.export_to_xml()"
   ]
  },
  {
   "cell_type": "markdown",
   "metadata": {},
   "source": [
    "## Creation of Surfaces and Cells"
   ]
  },
  {
   "cell_type": "code",
   "execution_count": 3,
   "metadata": {},
   "outputs": [],
   "source": [
    "# Create all x-surfaces\n",
    "XSurfaces = {}\n",
    "Nxsurfs = Nx + 1\n",
    "for i in range(Nxsurfs):\n",
    "    x = i*dx;\n",
    "    if((i == 0) or (i == Nxsurfs - 1)):\n",
    "        XSurfaces[i] = openmc.XPlane(x0=x, boundary_type='vacuum')\n",
    "    else:\n",
    "        XSurfaces[i] = openmc.XPlane(x0=x)\n",
    "        \n",
    "# Create all y-surfaces\n",
    "YSurfaces = {}\n",
    "Nysurfs = Ny + 1\n",
    "for j in range(Nysurfs):\n",
    "    y = j*dy;\n",
    "    if((j == 0) or (j == Nysurfs - 1)):\n",
    "        YSurfaces[j] = openmc.YPlane(y0=y, boundary_type='vacuum')\n",
    "    else:\n",
    "        YSurfaces[j] = openmc.YPlane(y0=y)\n",
    "        \n",
    "# Create all z-surfaces\n",
    "ZSurfaces = {}\n",
    "Nzsurfs = Nz + 1\n",
    "for k in range(Nzsurfs):\n",
    "    z = k*dz;\n",
    "    if((k == 0) or (k == Nysurfs - 1)):\n",
    "        ZSurfaces[k] = openmc.ZPlane(z0=z, boundary_type='vacuum')\n",
    "    else:\n",
    "        ZSurfaces[k] = openmc.ZPlane(z0=z)\n",
    "        \n",
    "# Create all cells\n",
    "Cells = []\n",
    "for i in range(Nx):\n",
    "    for j in range(Ny):\n",
    "        for k in range(Nz):\n",
    "            XSname = str(i) + '.' + str(j) + '.' + str(k)\n",
    "            cell = openmc.Cell()\n",
    "            cell.fill = materials[XSname]\n",
    "            cell.region = +XSurfaces[i] & -XSurfaces[i+1] & +YSurfaces[j] & -YSurfaces[j+1] & +ZSurfaces[k] & -ZSurfaces[k+1]\n",
    "            Cells.append(cell)\n",
    "\n",
    "# Main universe\n",
    "Box = openmc.Universe(cells=Cells)\n",
    "\n",
    "# Make geometry file\n",
    "geometry = openmc.Geometry(Box)\n",
    "geometry.export_to_xml()"
   ]
  },
  {
   "cell_type": "markdown",
   "metadata": {},
   "source": [
    "## Leakage Tallies"
   ]
  },
  {
   "cell_type": "code",
   "execution_count": 4,
   "metadata": {},
   "outputs": [],
   "source": [
    "# Filter mesh for outter surfaces\n",
    "mesh = openmc.RegularMesh(mesh_id=1)\n",
    "mesh.dimension = [1,1,1]\n",
    "mesh.lower_left = [0.,0.,0.]\n",
    "mesh.width = [2.,2.,2.]\n",
    "meshsurface_filter = openmc.MeshSurfaceFilter(mesh)\n",
    "\n",
    "leakage = openmc.Tally(name='leakage')\n",
    "leakage.filters = [meshsurface_filter]\n",
    "leakage.scores = ['current']\n",
    "\n",
    "# Tallies file\n",
    "tallies = openmc.Tallies()\n",
    "tallies.append(leakage)\n",
    "tallies.export_to_xml()"
   ]
  },
  {
   "cell_type": "markdown",
   "metadata": {},
   "source": [
    "## Settings"
   ]
  },
  {
   "cell_type": "code",
   "execution_count": 5,
   "metadata": {},
   "outputs": [],
   "source": [
    "settings = openmc.Settings()\n",
    "\n",
    "settings.run_mode = 'fixed source'\n",
    "settings.energy_mode = 'multi-group'\n",
    "settings.particles = 1000000\n",
    "settings.batches = 1\n",
    "settings.verbosity = 4\n",
    "\n",
    "# Source definition: Point at (1,1,1) isotropic\n",
    "source = openmc.Source()\n",
    "source.space = openmc.stats.Point(xyz=(1.,1.,1.))\n",
    "source.angle = openmc.stats.Isotropic()\n",
    "source.energy = openmc.stats.Discrete([10.0e6],[1.])\n",
    "settings.source = source\n",
    "\n",
    "settings.export_to_xml()"
   ]
  }
 ],
 "metadata": {
  "kernelspec": {
   "display_name": "Python 3",
   "language": "python",
   "name": "python3"
  },
  "language_info": {
   "codemirror_mode": {
    "name": "ipython",
    "version": 3
   },
   "file_extension": ".py",
   "mimetype": "text/x-python",
   "name": "python",
   "nbconvert_exporter": "python",
   "pygments_lexer": "ipython3",
   "version": "3.5.2"
  }
 },
 "nbformat": 4,
 "nbformat_minor": 4
}
